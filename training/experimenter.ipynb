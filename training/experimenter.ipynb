{
 "cells": [
  {
   "cell_type": "markdown",
   "id": "cc6f5d44-e546-4977-9f07-d39eb0e3b15c",
   "metadata": {},
   "source": [
    "### Backlog\n",
    "\n",
    "\\-------------\n",
    "\n",
    "- Limpar o notebook e descrever o passo a passo;"
   ]
  },
  {
   "cell_type": "markdown",
   "id": "a12eaa5a-1aaf-4248-a6dd-be9799048d53",
   "metadata": {},
   "source": [
    "---"
   ]
  },
  {
   "cell_type": "markdown",
   "id": "5e2338ac-6f22-4870-9f64-ebac9cab2f0d",
   "metadata": {},
   "source": [
    "## Data preparation"
   ]
  },
  {
   "cell_type": "code",
   "execution_count": 1,
   "id": "bbc2cc38-1cee-4034-b6f5-a010a7ac788d",
   "metadata": {},
   "outputs": [],
   "source": [
    "import os\n",
    "import re\n",
    "import time\n",
    "import nltk\n",
    "import spacy\n",
    "import pickle\n",
    "import string\n",
    "import unidecode\n",
    "\n",
    "import numpy as np\n",
    "import pandas as pd\n",
    "\n",
    "from dotenv import load_dotenv\n",
    "\n",
    "from sklearn.metrics import f1_score\n",
    "from sklearn.metrics import confusion_matrix\n",
    "from sklearn.metrics import classification_report\n",
    "from sklearn.metrics import precision_recall_fscore_support\n",
    "\n",
    "from sklearn.model_selection import GridSearchCV \n",
    "from sklearn.model_selection import train_test_split\n",
    "\n",
    "from sklearn.preprocessing import LabelEncoder\n",
    "from sklearn.ensemble import GradientBoostingClassifier\n",
    "from sklearn.feature_extraction.text import TfidfVectorizer\n",
    "\n",
    "from nltk.stem import RSLPStemmer\n",
    "from nltk.tokenize import word_tokenize"
   ]
  },
  {
   "cell_type": "code",
   "execution_count": 2,
   "id": "2f45a4e8-49b3-4cca-a4cb-4d2b3e0e3ba6",
   "metadata": {},
   "outputs": [
    {
     "name": "stderr",
     "output_type": "stream",
     "text": [
      "[nltk_data] Downloading package rslp to /home/jovyan/nltk_data...\n",
      "[nltk_data]   Package rslp is already up-to-date!\n",
      "[nltk_data] Downloading package punkt to /home/jovyan/nltk_data...\n",
      "[nltk_data]   Package punkt is already up-to-date!\n"
     ]
    }
   ],
   "source": [
    "_ = load_dotenv()\n",
    "_ = nltk.download(['rslp', 'punkt'])"
   ]
  },
  {
   "cell_type": "code",
   "execution_count": 3,
   "id": "bfd03b41-f498-4f5d-882a-461f26f3470c",
   "metadata": {
    "scrolled": true,
    "tags": []
   },
   "outputs": [
    {
     "name": "stdout",
     "output_type": "stream",
     "text": [
      "Defaulting to user installation because normal site-packages is not writeable\n",
      "Collecting pt-core-news-sm==3.2.0\n",
      "  Downloading https://github.com/explosion/spacy-models/releases/download/pt_core_news_sm-3.2.0/pt_core_news_sm-3.2.0-py3-none-any.whl (22.2 MB)\n",
      "\u001b[K     |████████████████████████████████| 22.2 MB 21.7 MB/s eta 0:00:01\n",
      "\u001b[?25hRequirement already satisfied: spacy<3.3.0,>=3.2.0 in /usr/local/lib/python3.9/site-packages (from pt-core-news-sm==3.2.0) (3.2.1)\n",
      "Requirement already satisfied: preshed<3.1.0,>=3.0.2 in /usr/local/lib/python3.9/site-packages (from spacy<3.3.0,>=3.2.0->pt-core-news-sm==3.2.0) (3.0.6)\n",
      "Requirement already satisfied: pydantic!=1.8,!=1.8.1,<1.9.0,>=1.7.4 in /usr/local/lib/python3.9/site-packages (from spacy<3.3.0,>=3.2.0->pt-core-news-sm==3.2.0) (1.8.2)\n",
      "Requirement already satisfied: requests<3.0.0,>=2.13.0 in /usr/local/lib/python3.9/site-packages (from spacy<3.3.0,>=3.2.0->pt-core-news-sm==3.2.0) (2.27.1)\n",
      "Requirement already satisfied: jinja2 in /usr/local/lib/python3.9/site-packages (from spacy<3.3.0,>=3.2.0->pt-core-news-sm==3.2.0) (3.0.3)\n",
      "Requirement already satisfied: langcodes<4.0.0,>=3.2.0 in /usr/local/lib/python3.9/site-packages (from spacy<3.3.0,>=3.2.0->pt-core-news-sm==3.2.0) (3.3.0)\n",
      "Requirement already satisfied: cymem<2.1.0,>=2.0.2 in /usr/local/lib/python3.9/site-packages (from spacy<3.3.0,>=3.2.0->pt-core-news-sm==3.2.0) (2.0.6)\n",
      "Requirement already satisfied: packaging>=20.0 in /usr/local/lib/python3.9/site-packages (from spacy<3.3.0,>=3.2.0->pt-core-news-sm==3.2.0) (21.3)\n",
      "Requirement already satisfied: blis<0.8.0,>=0.4.0 in /usr/local/lib/python3.9/site-packages (from spacy<3.3.0,>=3.2.0->pt-core-news-sm==3.2.0) (0.7.5)\n",
      "Requirement already satisfied: pathy>=0.3.5 in /usr/local/lib/python3.9/site-packages (from spacy<3.3.0,>=3.2.0->pt-core-news-sm==3.2.0) (0.6.1)\n",
      "Requirement already satisfied: spacy-legacy<3.1.0,>=3.0.8 in /usr/local/lib/python3.9/site-packages (from spacy<3.3.0,>=3.2.0->pt-core-news-sm==3.2.0) (3.0.8)\n",
      "Requirement already satisfied: setuptools in /usr/local/lib/python3.9/site-packages (from spacy<3.3.0,>=3.2.0->pt-core-news-sm==3.2.0) (53.0.0)\n",
      "Requirement already satisfied: tqdm<5.0.0,>=4.38.0 in /usr/local/lib/python3.9/site-packages (from spacy<3.3.0,>=3.2.0->pt-core-news-sm==3.2.0) (4.62.3)\n",
      "Requirement already satisfied: spacy-loggers<2.0.0,>=1.0.0 in /usr/local/lib/python3.9/site-packages (from spacy<3.3.0,>=3.2.0->pt-core-news-sm==3.2.0) (1.0.1)\n",
      "Requirement already satisfied: srsly<3.0.0,>=2.4.1 in /usr/local/lib/python3.9/site-packages (from spacy<3.3.0,>=3.2.0->pt-core-news-sm==3.2.0) (2.4.2)\n",
      "Requirement already satisfied: murmurhash<1.1.0,>=0.28.0 in /usr/local/lib/python3.9/site-packages (from spacy<3.3.0,>=3.2.0->pt-core-news-sm==3.2.0) (1.0.6)\n",
      "Requirement already satisfied: catalogue<2.1.0,>=2.0.6 in /usr/local/lib/python3.9/site-packages (from spacy<3.3.0,>=3.2.0->pt-core-news-sm==3.2.0) (2.0.6)\n",
      "Requirement already satisfied: numpy>=1.15.0 in /usr/local/lib/python3.9/site-packages (from spacy<3.3.0,>=3.2.0->pt-core-news-sm==3.2.0) (1.19.4)\n",
      "Requirement already satisfied: thinc<8.1.0,>=8.0.12 in /usr/local/lib/python3.9/site-packages (from spacy<3.3.0,>=3.2.0->pt-core-news-sm==3.2.0) (8.0.13)\n",
      "Requirement already satisfied: typer<0.5.0,>=0.3.0 in /usr/local/lib/python3.9/site-packages (from spacy<3.3.0,>=3.2.0->pt-core-news-sm==3.2.0) (0.4.0)\n",
      "Requirement already satisfied: wasabi<1.1.0,>=0.8.1 in /usr/local/lib/python3.9/site-packages (from spacy<3.3.0,>=3.2.0->pt-core-news-sm==3.2.0) (0.9.0)\n",
      "Requirement already satisfied: pyparsing!=3.0.5,>=2.0.2 in /usr/local/lib/python3.9/site-packages (from packaging>=20.0->spacy<3.3.0,>=3.2.0->pt-core-news-sm==3.2.0) (3.0.6)\n",
      "Requirement already satisfied: smart-open<6.0.0,>=5.0.0 in /usr/local/lib/python3.9/site-packages (from pathy>=0.3.5->spacy<3.3.0,>=3.2.0->pt-core-news-sm==3.2.0) (5.2.1)\n",
      "Requirement already satisfied: typing-extensions>=3.7.4.3 in /usr/local/lib/python3.9/site-packages (from pydantic!=1.8,!=1.8.1,<1.9.0,>=1.7.4->spacy<3.3.0,>=3.2.0->pt-core-news-sm==3.2.0) (4.0.1)\n",
      "Requirement already satisfied: urllib3<1.27,>=1.21.1 in /usr/local/lib/python3.9/site-packages (from requests<3.0.0,>=2.13.0->spacy<3.3.0,>=3.2.0->pt-core-news-sm==3.2.0) (1.26.8)\n",
      "Requirement already satisfied: charset-normalizer~=2.0.0 in /usr/local/lib/python3.9/site-packages (from requests<3.0.0,>=2.13.0->spacy<3.3.0,>=3.2.0->pt-core-news-sm==3.2.0) (2.0.10)\n",
      "Requirement already satisfied: certifi>=2017.4.17 in /usr/local/lib/python3.9/site-packages (from requests<3.0.0,>=2.13.0->spacy<3.3.0,>=3.2.0->pt-core-news-sm==3.2.0) (2021.10.8)\n",
      "Requirement already satisfied: idna<4,>=2.5 in /usr/local/lib/python3.9/site-packages (from requests<3.0.0,>=2.13.0->spacy<3.3.0,>=3.2.0->pt-core-news-sm==3.2.0) (3.3)\n",
      "Requirement already satisfied: click<9.0.0,>=7.1.1 in /usr/local/lib/python3.9/site-packages (from typer<0.5.0,>=0.3.0->spacy<3.3.0,>=3.2.0->pt-core-news-sm==3.2.0) (8.0.3)\n",
      "Requirement already satisfied: MarkupSafe>=2.0 in /usr/local/lib/python3.9/site-packages (from jinja2->spacy<3.3.0,>=3.2.0->pt-core-news-sm==3.2.0) (2.0.1)\n",
      "\u001b[33mWARNING: You are using pip version 21.0.1; however, version 21.3.1 is available.\n",
      "You should consider upgrading via the '/usr/local/bin/python -m pip install --upgrade pip' command.\u001b[0m\n",
      "\u001b[38;5;2m✔ Download and installation successful\u001b[0m\n",
      "You can now load the package via spacy.load('pt_core_news_sm')\n"
     ]
    }
   ],
   "source": [
    "!python -m spacy download pt_core_news_sm"
   ]
  },
  {
   "cell_type": "code",
   "execution_count": 4,
   "id": "ae6879b3-e79d-444e-b8c3-d56d306fa165",
   "metadata": {},
   "outputs": [],
   "source": [
    "pt_br_stop_words = []\n",
    "with open('./stop_words.txt') as f:\n",
    "    pt_br_stop_words = (\n",
    "        [word if len(word.split(' ')) == 1 else word.split(' ')[1] for word in f.read().split(',')]\n",
    "    )\n",
    "\n",
    "    f.close()"
   ]
  },
  {
   "cell_type": "code",
   "execution_count": 5,
   "id": "0ff5d89a-208a-4456-9219-c574924ba59f",
   "metadata": {},
   "outputs": [],
   "source": [
    "nlp = spacy.load('pt_core_news_sm')"
   ]
  },
  {
   "cell_type": "code",
   "execution_count": 6,
   "id": "a4bc46b4-6a67-46d3-8224-0eb18aee3cd5",
   "metadata": {},
   "outputs": [],
   "source": [
    "DATASET_PATH = os.getenv(\"DATASET_PATH\")\n",
    "METRICS_PATH = os.getenv(\"METRICS_PATH\")\n",
    "MODEL_PATH = os.getenv(\"MODEL_PATH\")"
   ]
  },
  {
   "cell_type": "code",
   "execution_count": 7,
   "id": "357f97c7-126d-48d9-8db7-1b030a8e05c2",
   "metadata": {},
   "outputs": [
    {
     "name": "stdout",
     "output_type": "stream",
     "text": [
      "Dataset Path: /usr/src/data/sample_products.csv\n",
      "Metrics Path: /usr/src/data/metrics.txt\n",
      "Model Path: /usr/src/data/model.pkl\n"
     ]
    }
   ],
   "source": [
    "print('Dataset Path: ' + DATASET_PATH + '\\n' + 'Metrics Path: ' + METRICS_PATH + '\\n' + 'Model Path: ' + MODEL_PATH)"
   ]
  },
  {
   "cell_type": "code",
   "execution_count": 8,
   "id": "d95af81e-fc83-4bed-b901-e816650ec73b",
   "metadata": {},
   "outputs": [],
   "source": [
    "df1 = pd.read_csv(DATASET_PATH)"
   ]
  },
  {
   "cell_type": "code",
   "execution_count": 9,
   "id": "47bab597-acd2-481f-bbdd-407ab344e200",
   "metadata": {},
   "outputs": [
    {
     "data": {
      "text/html": [
       "<div>\n",
       "<style scoped>\n",
       "    .dataframe tbody tr th:only-of-type {\n",
       "        vertical-align: middle;\n",
       "    }\n",
       "\n",
       "    .dataframe tbody tr th {\n",
       "        vertical-align: top;\n",
       "    }\n",
       "\n",
       "    .dataframe thead th {\n",
       "        text-align: right;\n",
       "    }\n",
       "</style>\n",
       "<table border=\"1\" class=\"dataframe\">\n",
       "  <thead>\n",
       "    <tr style=\"text-align: right;\">\n",
       "      <th></th>\n",
       "      <th>product_id</th>\n",
       "      <th>seller_id</th>\n",
       "      <th>query</th>\n",
       "      <th>search_page</th>\n",
       "      <th>position</th>\n",
       "      <th>title</th>\n",
       "      <th>concatenated_tags</th>\n",
       "      <th>creation_date</th>\n",
       "      <th>price</th>\n",
       "      <th>weight</th>\n",
       "      <th>express_delivery</th>\n",
       "      <th>minimum_quantity</th>\n",
       "      <th>view_counts</th>\n",
       "      <th>order_counts</th>\n",
       "      <th>category</th>\n",
       "    </tr>\n",
       "  </thead>\n",
       "  <tbody>\n",
       "    <tr>\n",
       "      <th>0</th>\n",
       "      <td>11394449</td>\n",
       "      <td>8324141</td>\n",
       "      <td>espirito santo</td>\n",
       "      <td>2</td>\n",
       "      <td>6</td>\n",
       "      <td>Mandala Espírito Santo</td>\n",
       "      <td>mandala mdf</td>\n",
       "      <td>2015-11-14 19:42:12</td>\n",
       "      <td>171.890000</td>\n",
       "      <td>1200.0</td>\n",
       "      <td>1</td>\n",
       "      <td>4</td>\n",
       "      <td>244</td>\n",
       "      <td>NaN</td>\n",
       "      <td>Decoração</td>\n",
       "    </tr>\n",
       "    <tr>\n",
       "      <th>1</th>\n",
       "      <td>15534262</td>\n",
       "      <td>6939286</td>\n",
       "      <td>cartao de visita</td>\n",
       "      <td>2</td>\n",
       "      <td>0</td>\n",
       "      <td>Cartão de Visita</td>\n",
       "      <td>cartao visita panfletos tag adesivos copos lon...</td>\n",
       "      <td>2018-04-04 20:55:07</td>\n",
       "      <td>77.670000</td>\n",
       "      <td>8.0</td>\n",
       "      <td>1</td>\n",
       "      <td>5</td>\n",
       "      <td>124</td>\n",
       "      <td>NaN</td>\n",
       "      <td>Papel e Cia</td>\n",
       "    </tr>\n",
       "    <tr>\n",
       "      <th>2</th>\n",
       "      <td>16153119</td>\n",
       "      <td>9835835</td>\n",
       "      <td>expositor de esmaltes</td>\n",
       "      <td>1</td>\n",
       "      <td>38</td>\n",
       "      <td>Organizador expositor p/ 70 esmaltes</td>\n",
       "      <td>expositor</td>\n",
       "      <td>2018-10-13 20:57:07</td>\n",
       "      <td>73.920006</td>\n",
       "      <td>2709.0</td>\n",
       "      <td>1</td>\n",
       "      <td>1</td>\n",
       "      <td>59</td>\n",
       "      <td>NaN</td>\n",
       "      <td>Outros</td>\n",
       "    </tr>\n",
       "    <tr>\n",
       "      <th>3</th>\n",
       "      <td>15877252</td>\n",
       "      <td>8071206</td>\n",
       "      <td>medidas lencol para berco americano</td>\n",
       "      <td>1</td>\n",
       "      <td>6</td>\n",
       "      <td>Jogo de Lençol Berço Estampado</td>\n",
       "      <td>t jogo lencol menino lencol berco</td>\n",
       "      <td>2017-02-27 13:26:03</td>\n",
       "      <td>118.770004</td>\n",
       "      <td>0.0</td>\n",
       "      <td>1</td>\n",
       "      <td>1</td>\n",
       "      <td>180</td>\n",
       "      <td>1.0</td>\n",
       "      <td>Bebê</td>\n",
       "    </tr>\n",
       "    <tr>\n",
       "      <th>4</th>\n",
       "      <td>15917108</td>\n",
       "      <td>7200773</td>\n",
       "      <td>adesivo box banheiro</td>\n",
       "      <td>3</td>\n",
       "      <td>38</td>\n",
       "      <td>ADESIVO BOX DE BANHEIRO</td>\n",
       "      <td>adesivo box banheiro</td>\n",
       "      <td>2017-05-09 13:18:38</td>\n",
       "      <td>191.810000</td>\n",
       "      <td>507.0</td>\n",
       "      <td>1</td>\n",
       "      <td>6</td>\n",
       "      <td>34</td>\n",
       "      <td>NaN</td>\n",
       "      <td>Decoração</td>\n",
       "    </tr>\n",
       "  </tbody>\n",
       "</table>\n",
       "</div>"
      ],
      "text/plain": [
       "   product_id  seller_id                                query  search_page  \\\n",
       "0    11394449    8324141                       espirito santo            2   \n",
       "1    15534262    6939286                     cartao de visita            2   \n",
       "2    16153119    9835835                expositor de esmaltes            1   \n",
       "3    15877252    8071206  medidas lencol para berco americano            1   \n",
       "4    15917108    7200773                 adesivo box banheiro            3   \n",
       "\n",
       "   position                                 title  \\\n",
       "0         6                Mandala Espírito Santo   \n",
       "1         0                      Cartão de Visita   \n",
       "2        38  Organizador expositor p/ 70 esmaltes   \n",
       "3         6        Jogo de Lençol Berço Estampado   \n",
       "4        38               ADESIVO BOX DE BANHEIRO   \n",
       "\n",
       "                                   concatenated_tags        creation_date  \\\n",
       "0                                        mandala mdf  2015-11-14 19:42:12   \n",
       "1  cartao visita panfletos tag adesivos copos lon...  2018-04-04 20:55:07   \n",
       "2                                          expositor  2018-10-13 20:57:07   \n",
       "3                  t jogo lencol menino lencol berco  2017-02-27 13:26:03   \n",
       "4                               adesivo box banheiro  2017-05-09 13:18:38   \n",
       "\n",
       "        price  weight  express_delivery  minimum_quantity  view_counts  \\\n",
       "0  171.890000  1200.0                 1                 4          244   \n",
       "1   77.670000     8.0                 1                 5          124   \n",
       "2   73.920006  2709.0                 1                 1           59   \n",
       "3  118.770004     0.0                 1                 1          180   \n",
       "4  191.810000   507.0                 1                 6           34   \n",
       "\n",
       "   order_counts     category  \n",
       "0           NaN    Decoração  \n",
       "1           NaN  Papel e Cia  \n",
       "2           NaN       Outros  \n",
       "3           1.0         Bebê  \n",
       "4           NaN    Decoração  "
      ]
     },
     "execution_count": 9,
     "metadata": {},
     "output_type": "execute_result"
    }
   ],
   "source": [
    "df1.head()"
   ]
  },
  {
   "cell_type": "code",
   "execution_count": 10,
   "id": "af6f94c8-3578-42af-9526-c60dcb9bf8ff",
   "metadata": {},
   "outputs": [
    {
     "name": "stdout",
     "output_type": "stream",
     "text": [
      "<class 'pandas.core.frame.DataFrame'>\n",
      "RangeIndex: 38000 entries, 0 to 37999\n",
      "Data columns (total 15 columns):\n",
      " #   Column             Non-Null Count  Dtype  \n",
      "---  ------             --------------  -----  \n",
      " 0   product_id         38000 non-null  int64  \n",
      " 1   seller_id          38000 non-null  int64  \n",
      " 2   query              38000 non-null  object \n",
      " 3   search_page        38000 non-null  int64  \n",
      " 4   position           38000 non-null  int64  \n",
      " 5   title              38000 non-null  object \n",
      " 6   concatenated_tags  37998 non-null  object \n",
      " 7   creation_date      38000 non-null  object \n",
      " 8   price              38000 non-null  float64\n",
      " 9   weight             37942 non-null  float64\n",
      " 10  express_delivery   38000 non-null  int64  \n",
      " 11  minimum_quantity   38000 non-null  int64  \n",
      " 12  view_counts        38000 non-null  int64  \n",
      " 13  order_counts       17895 non-null  float64\n",
      " 14  category           38000 non-null  object \n",
      "dtypes: float64(3), int64(7), object(5)\n",
      "memory usage: 4.3+ MB\n"
     ]
    }
   ],
   "source": [
    "df1.info()"
   ]
  },
  {
   "cell_type": "code",
   "execution_count": 11,
   "id": "b10f55d3-58de-445e-9903-2862c995e317",
   "metadata": {},
   "outputs": [
    {
     "data": {
      "text/plain": [
       "array(['Decoração', 'Papel e Cia', 'Outros', 'Bebê', 'Lembrancinhas',\n",
       "       'Bijuterias e Jóias'], dtype=object)"
      ]
     },
     "execution_count": 11,
     "metadata": {},
     "output_type": "execute_result"
    }
   ],
   "source": [
    "df1['category'].unique()"
   ]
  },
  {
   "cell_type": "code",
   "execution_count": 12,
   "id": "54c4a9f9-cac1-43d3-bd45-fbddce04ea42",
   "metadata": {},
   "outputs": [],
   "source": [
    "df2 = df1.copy()"
   ]
  },
  {
   "cell_type": "code",
   "execution_count": 13,
   "id": "bda24ed1-a0e6-4ddf-ba42-d23495ec8f4d",
   "metadata": {},
   "outputs": [],
   "source": [
    "df2['seq'] = df2['query'] + ' ' + df2['title'] + ' ' + df2['concatenated_tags']\n",
    "seq_column = df2.pop('seq')\n",
    "df2.insert(0, 'seq', seq_column)"
   ]
  },
  {
   "cell_type": "code",
   "execution_count": 14,
   "id": "63d5fe88-9d68-4c16-9dbc-163c37560b3f",
   "metadata": {},
   "outputs": [],
   "source": [
    "df2 = df2.drop(labels={'query', 'title', 'concatenated_tags'}, axis='columns')"
   ]
  },
  {
   "cell_type": "code",
   "execution_count": 15,
   "id": "cdc9e027-3399-495e-9f6f-55c8629abd1a",
   "metadata": {},
   "outputs": [
    {
     "data": {
      "text/html": [
       "<div>\n",
       "<style scoped>\n",
       "    .dataframe tbody tr th:only-of-type {\n",
       "        vertical-align: middle;\n",
       "    }\n",
       "\n",
       "    .dataframe tbody tr th {\n",
       "        vertical-align: top;\n",
       "    }\n",
       "\n",
       "    .dataframe thead th {\n",
       "        text-align: right;\n",
       "    }\n",
       "</style>\n",
       "<table border=\"1\" class=\"dataframe\">\n",
       "  <thead>\n",
       "    <tr style=\"text-align: right;\">\n",
       "      <th></th>\n",
       "      <th>seq</th>\n",
       "      <th>product_id</th>\n",
       "      <th>seller_id</th>\n",
       "      <th>search_page</th>\n",
       "      <th>position</th>\n",
       "      <th>creation_date</th>\n",
       "      <th>price</th>\n",
       "      <th>weight</th>\n",
       "      <th>express_delivery</th>\n",
       "      <th>minimum_quantity</th>\n",
       "      <th>view_counts</th>\n",
       "      <th>order_counts</th>\n",
       "      <th>category</th>\n",
       "    </tr>\n",
       "  </thead>\n",
       "  <tbody>\n",
       "    <tr>\n",
       "      <th>0</th>\n",
       "      <td>espirito santo Mandala Espírito Santo mandala mdf</td>\n",
       "      <td>11394449</td>\n",
       "      <td>8324141</td>\n",
       "      <td>2</td>\n",
       "      <td>6</td>\n",
       "      <td>2015-11-14 19:42:12</td>\n",
       "      <td>171.890000</td>\n",
       "      <td>1200.0</td>\n",
       "      <td>1</td>\n",
       "      <td>4</td>\n",
       "      <td>244</td>\n",
       "      <td>NaN</td>\n",
       "      <td>Decoração</td>\n",
       "    </tr>\n",
       "    <tr>\n",
       "      <th>1</th>\n",
       "      <td>cartao de visita Cartão de Visita cartao visit...</td>\n",
       "      <td>15534262</td>\n",
       "      <td>6939286</td>\n",
       "      <td>2</td>\n",
       "      <td>0</td>\n",
       "      <td>2018-04-04 20:55:07</td>\n",
       "      <td>77.670000</td>\n",
       "      <td>8.0</td>\n",
       "      <td>1</td>\n",
       "      <td>5</td>\n",
       "      <td>124</td>\n",
       "      <td>NaN</td>\n",
       "      <td>Papel e Cia</td>\n",
       "    </tr>\n",
       "    <tr>\n",
       "      <th>2</th>\n",
       "      <td>expositor de esmaltes Organizador expositor p/...</td>\n",
       "      <td>16153119</td>\n",
       "      <td>9835835</td>\n",
       "      <td>1</td>\n",
       "      <td>38</td>\n",
       "      <td>2018-10-13 20:57:07</td>\n",
       "      <td>73.920006</td>\n",
       "      <td>2709.0</td>\n",
       "      <td>1</td>\n",
       "      <td>1</td>\n",
       "      <td>59</td>\n",
       "      <td>NaN</td>\n",
       "      <td>Outros</td>\n",
       "    </tr>\n",
       "    <tr>\n",
       "      <th>3</th>\n",
       "      <td>medidas lencol para berco americano Jogo de Le...</td>\n",
       "      <td>15877252</td>\n",
       "      <td>8071206</td>\n",
       "      <td>1</td>\n",
       "      <td>6</td>\n",
       "      <td>2017-02-27 13:26:03</td>\n",
       "      <td>118.770004</td>\n",
       "      <td>0.0</td>\n",
       "      <td>1</td>\n",
       "      <td>1</td>\n",
       "      <td>180</td>\n",
       "      <td>1.0</td>\n",
       "      <td>Bebê</td>\n",
       "    </tr>\n",
       "    <tr>\n",
       "      <th>4</th>\n",
       "      <td>adesivo box banheiro ADESIVO BOX DE BANHEIRO a...</td>\n",
       "      <td>15917108</td>\n",
       "      <td>7200773</td>\n",
       "      <td>3</td>\n",
       "      <td>38</td>\n",
       "      <td>2017-05-09 13:18:38</td>\n",
       "      <td>191.810000</td>\n",
       "      <td>507.0</td>\n",
       "      <td>1</td>\n",
       "      <td>6</td>\n",
       "      <td>34</td>\n",
       "      <td>NaN</td>\n",
       "      <td>Decoração</td>\n",
       "    </tr>\n",
       "  </tbody>\n",
       "</table>\n",
       "</div>"
      ],
      "text/plain": [
       "                                                 seq  product_id  seller_id  \\\n",
       "0  espirito santo Mandala Espírito Santo mandala mdf    11394449    8324141   \n",
       "1  cartao de visita Cartão de Visita cartao visit...    15534262    6939286   \n",
       "2  expositor de esmaltes Organizador expositor p/...    16153119    9835835   \n",
       "3  medidas lencol para berco americano Jogo de Le...    15877252    8071206   \n",
       "4  adesivo box banheiro ADESIVO BOX DE BANHEIRO a...    15917108    7200773   \n",
       "\n",
       "   search_page  position        creation_date       price  weight  \\\n",
       "0            2         6  2015-11-14 19:42:12  171.890000  1200.0   \n",
       "1            2         0  2018-04-04 20:55:07   77.670000     8.0   \n",
       "2            1        38  2018-10-13 20:57:07   73.920006  2709.0   \n",
       "3            1         6  2017-02-27 13:26:03  118.770004     0.0   \n",
       "4            3        38  2017-05-09 13:18:38  191.810000   507.0   \n",
       "\n",
       "   express_delivery  minimum_quantity  view_counts  order_counts     category  \n",
       "0                 1                 4          244           NaN    Decoração  \n",
       "1                 1                 5          124           NaN  Papel e Cia  \n",
       "2                 1                 1           59           NaN       Outros  \n",
       "3                 1                 1          180           1.0         Bebê  \n",
       "4                 1                 6           34           NaN    Decoração  "
      ]
     },
     "execution_count": 15,
     "metadata": {},
     "output_type": "execute_result"
    }
   ],
   "source": [
    "df2.head()"
   ]
  },
  {
   "cell_type": "code",
   "execution_count": 16,
   "id": "13ecab42-e5d8-4bae-bb46-cd7ba34cf09d",
   "metadata": {},
   "outputs": [],
   "source": [
    "df2.dropna(subset=['seq'], inplace=True)\n",
    "df2.reset_index(inplace=True, drop=True)"
   ]
  },
  {
   "cell_type": "code",
   "execution_count": 17,
   "id": "51ac07b1-7e66-466c-81ea-ad27435b46e3",
   "metadata": {},
   "outputs": [],
   "source": [
    "def processText(df_column, stop_words=pt_br_stop_words, lemma_dict=nlp):\n",
    "    # Removing stop words\n",
    "    df_column = df_column.apply(\n",
    "        lambda seq: ' '.join([word for word in seq.split(' ') if word not in pt_br_stop_words])\n",
    "    )\n",
    "\n",
    "    # Disable case sensitivity\n",
    "    df_column = df_column.apply(\n",
    "        lambda seq: ' '.join([word.lower() for word in seq.split(' ')])\n",
    "    )\n",
    "\n",
    "    # Remove numbers\n",
    "    df_column = df_column.apply(\n",
    "        lambda seq: ' '.join([re.sub(r'\\d+', '', word) for word in seq.split(' ')])\n",
    "    )\n",
    "\n",
    "    # Remove punctuation marks\n",
    "    df_column = df_column.apply(\n",
    "        lambda seq: ' '.join([\n",
    "            word.translate(\n",
    "                str.maketrans('','', string.punctuation)) for word in seq.split(' ')\n",
    "        ])\n",
    "    )\n",
    "\n",
    "    # Remove accent marks\n",
    "    df_column = df_column.apply(\n",
    "        lambda seq: ' '.join([unidecode.unidecode(word) for word in seq.split(' ')])\n",
    "    )\n",
    "\n",
    "    # Remove duplicates\n",
    "    df_column = df_column.apply(\n",
    "        lambda seq: ' '.join(list(set(seq.split(' '))))\n",
    "    )\n",
    "\n",
    "    # Lemmatization\n",
    "    df_column = df_column.apply(\n",
    "        lambda seq: ' '.join([\n",
    "            word.lemma_ if word.pos_ == 'VERB' else str(word) for word in lemma_dict(seq) \n",
    "        ])\n",
    "    )\n",
    "\n",
    "    # Remove single char words\n",
    "    df_column = df_column.apply(\n",
    "        lambda seq: ' '.join([\n",
    "            word for word in seq.split(' ') if len(word) > 1\n",
    "        ])\n",
    "    )\n",
    "\n",
    "    # Stemming\n",
    "    # stemmer = RSLPStemmer()\n",
    "    # df_column = df_column.apply(\n",
    "    #     lambda seq: ' '.join([stemmer.stem(token) for token in word_tokenize(seq)])\n",
    "    # )\n",
    "\n",
    "    return df_column"
   ]
  },
  {
   "cell_type": "code",
   "execution_count": 18,
   "id": "1fac22e4-6e67-4256-80ec-3685582be0ee",
   "metadata": {},
   "outputs": [],
   "source": [
    "df2['seq'] = processText(df2['seq'])\n",
    "df2.rename(columns={'seq': 'seq_process'}, inplace=True)"
   ]
  },
  {
   "cell_type": "code",
   "execution_count": 19,
   "id": "8ac1a636-3f4c-4139-8aea-b73fa50025c7",
   "metadata": {},
   "outputs": [
    {
     "data": {
      "text/html": [
       "<div>\n",
       "<style scoped>\n",
       "    .dataframe tbody tr th:only-of-type {\n",
       "        vertical-align: middle;\n",
       "    }\n",
       "\n",
       "    .dataframe tbody tr th {\n",
       "        vertical-align: top;\n",
       "    }\n",
       "\n",
       "    .dataframe thead th {\n",
       "        text-align: right;\n",
       "    }\n",
       "</style>\n",
       "<table border=\"1\" class=\"dataframe\">\n",
       "  <thead>\n",
       "    <tr style=\"text-align: right;\">\n",
       "      <th></th>\n",
       "      <th>seq_process</th>\n",
       "      <th>product_id</th>\n",
       "      <th>seller_id</th>\n",
       "      <th>search_page</th>\n",
       "      <th>position</th>\n",
       "      <th>creation_date</th>\n",
       "      <th>price</th>\n",
       "      <th>weight</th>\n",
       "      <th>express_delivery</th>\n",
       "      <th>minimum_quantity</th>\n",
       "      <th>view_counts</th>\n",
       "      <th>order_counts</th>\n",
       "      <th>category</th>\n",
       "    </tr>\n",
       "  </thead>\n",
       "  <tbody>\n",
       "    <tr>\n",
       "      <th>0</th>\n",
       "      <td>santo mdf espirito mandala</td>\n",
       "      <td>11394449</td>\n",
       "      <td>8324141</td>\n",
       "      <td>2</td>\n",
       "      <td>6</td>\n",
       "      <td>2015-11-14 19:42:12</td>\n",
       "      <td>171.890000</td>\n",
       "      <td>1200.0</td>\n",
       "      <td>1</td>\n",
       "      <td>4</td>\n",
       "      <td>244</td>\n",
       "      <td>NaN</td>\n",
       "      <td>Decoração</td>\n",
       "    </tr>\n",
       "    <tr>\n",
       "      <th>1</th>\n",
       "      <td>long drink panfletos tag copos cartao adesivos...</td>\n",
       "      <td>15534262</td>\n",
       "      <td>6939286</td>\n",
       "      <td>2</td>\n",
       "      <td>0</td>\n",
       "      <td>2018-04-04 20:55:07</td>\n",
       "      <td>77.670000</td>\n",
       "      <td>8.0</td>\n",
       "      <td>1</td>\n",
       "      <td>5</td>\n",
       "      <td>124</td>\n",
       "      <td>NaN</td>\n",
       "      <td>Papel e Cia</td>\n",
       "    </tr>\n",
       "    <tr>\n",
       "      <th>2</th>\n",
       "      <td>organizador expositor esmaltes</td>\n",
       "      <td>16153119</td>\n",
       "      <td>9835835</td>\n",
       "      <td>1</td>\n",
       "      <td>38</td>\n",
       "      <td>2018-10-13 20:57:07</td>\n",
       "      <td>73.920006</td>\n",
       "      <td>2709.0</td>\n",
       "      <td>1</td>\n",
       "      <td>1</td>\n",
       "      <td>59</td>\n",
       "      <td>NaN</td>\n",
       "      <td>Outros</td>\n",
       "    </tr>\n",
       "    <tr>\n",
       "      <th>3</th>\n",
       "      <td>jogo medidas estampar berco menino americano l...</td>\n",
       "      <td>15877252</td>\n",
       "      <td>8071206</td>\n",
       "      <td>1</td>\n",
       "      <td>6</td>\n",
       "      <td>2017-02-27 13:26:03</td>\n",
       "      <td>118.770004</td>\n",
       "      <td>0.0</td>\n",
       "      <td>1</td>\n",
       "      <td>1</td>\n",
       "      <td>180</td>\n",
       "      <td>1.0</td>\n",
       "      <td>Bebê</td>\n",
       "    </tr>\n",
       "    <tr>\n",
       "      <th>4</th>\n",
       "      <td>box banheiro adesivo de</td>\n",
       "      <td>15917108</td>\n",
       "      <td>7200773</td>\n",
       "      <td>3</td>\n",
       "      <td>38</td>\n",
       "      <td>2017-05-09 13:18:38</td>\n",
       "      <td>191.810000</td>\n",
       "      <td>507.0</td>\n",
       "      <td>1</td>\n",
       "      <td>6</td>\n",
       "      <td>34</td>\n",
       "      <td>NaN</td>\n",
       "      <td>Decoração</td>\n",
       "    </tr>\n",
       "  </tbody>\n",
       "</table>\n",
       "</div>"
      ],
      "text/plain": [
       "                                         seq_process  product_id  seller_id  \\\n",
       "0                         santo mdf espirito mandala    11394449    8324141   \n",
       "1  long drink panfletos tag copos cartao adesivos...    15534262    6939286   \n",
       "2                     organizador expositor esmaltes    16153119    9835835   \n",
       "3  jogo medidas estampar berco menino americano l...    15877252    8071206   \n",
       "4                            box banheiro adesivo de    15917108    7200773   \n",
       "\n",
       "   search_page  position        creation_date       price  weight  \\\n",
       "0            2         6  2015-11-14 19:42:12  171.890000  1200.0   \n",
       "1            2         0  2018-04-04 20:55:07   77.670000     8.0   \n",
       "2            1        38  2018-10-13 20:57:07   73.920006  2709.0   \n",
       "3            1         6  2017-02-27 13:26:03  118.770004     0.0   \n",
       "4            3        38  2017-05-09 13:18:38  191.810000   507.0   \n",
       "\n",
       "   express_delivery  minimum_quantity  view_counts  order_counts     category  \n",
       "0                 1                 4          244           NaN    Decoração  \n",
       "1                 1                 5          124           NaN  Papel e Cia  \n",
       "2                 1                 1           59           NaN       Outros  \n",
       "3                 1                 1          180           1.0         Bebê  \n",
       "4                 1                 6           34           NaN    Decoração  "
      ]
     },
     "execution_count": 19,
     "metadata": {},
     "output_type": "execute_result"
    }
   ],
   "source": [
    "df2.head()"
   ]
  },
  {
   "cell_type": "code",
   "execution_count": 20,
   "id": "e747d524-471d-4694-b426-21a5a7a20b7b",
   "metadata": {},
   "outputs": [],
   "source": [
    "df3 = df2.copy()\n",
    "\n",
    "le = LabelEncoder()\n",
    "df3['category'] = le.fit_transform(df3['category'])"
   ]
  },
  {
   "cell_type": "code",
   "execution_count": 21,
   "id": "cb75a420-434e-4d2e-a16c-7255ee78f957",
   "metadata": {},
   "outputs": [
    {
     "data": {
      "text/html": [
       "<div>\n",
       "<style scoped>\n",
       "    .dataframe tbody tr th:only-of-type {\n",
       "        vertical-align: middle;\n",
       "    }\n",
       "\n",
       "    .dataframe tbody tr th {\n",
       "        vertical-align: top;\n",
       "    }\n",
       "\n",
       "    .dataframe thead th {\n",
       "        text-align: right;\n",
       "    }\n",
       "</style>\n",
       "<table border=\"1\" class=\"dataframe\">\n",
       "  <thead>\n",
       "    <tr style=\"text-align: right;\">\n",
       "      <th></th>\n",
       "      <th>seq_process</th>\n",
       "      <th>product_id</th>\n",
       "      <th>seller_id</th>\n",
       "      <th>search_page</th>\n",
       "      <th>position</th>\n",
       "      <th>creation_date</th>\n",
       "      <th>price</th>\n",
       "      <th>weight</th>\n",
       "      <th>express_delivery</th>\n",
       "      <th>minimum_quantity</th>\n",
       "      <th>view_counts</th>\n",
       "      <th>order_counts</th>\n",
       "      <th>category</th>\n",
       "    </tr>\n",
       "  </thead>\n",
       "  <tbody>\n",
       "    <tr>\n",
       "      <th>0</th>\n",
       "      <td>santo mdf espirito mandala</td>\n",
       "      <td>11394449</td>\n",
       "      <td>8324141</td>\n",
       "      <td>2</td>\n",
       "      <td>6</td>\n",
       "      <td>2015-11-14 19:42:12</td>\n",
       "      <td>171.890000</td>\n",
       "      <td>1200.0</td>\n",
       "      <td>1</td>\n",
       "      <td>4</td>\n",
       "      <td>244</td>\n",
       "      <td>NaN</td>\n",
       "      <td>2</td>\n",
       "    </tr>\n",
       "    <tr>\n",
       "      <th>1</th>\n",
       "      <td>long drink panfletos tag copos cartao adesivos...</td>\n",
       "      <td>15534262</td>\n",
       "      <td>6939286</td>\n",
       "      <td>2</td>\n",
       "      <td>0</td>\n",
       "      <td>2018-04-04 20:55:07</td>\n",
       "      <td>77.670000</td>\n",
       "      <td>8.0</td>\n",
       "      <td>1</td>\n",
       "      <td>5</td>\n",
       "      <td>124</td>\n",
       "      <td>NaN</td>\n",
       "      <td>5</td>\n",
       "    </tr>\n",
       "    <tr>\n",
       "      <th>2</th>\n",
       "      <td>organizador expositor esmaltes</td>\n",
       "      <td>16153119</td>\n",
       "      <td>9835835</td>\n",
       "      <td>1</td>\n",
       "      <td>38</td>\n",
       "      <td>2018-10-13 20:57:07</td>\n",
       "      <td>73.920006</td>\n",
       "      <td>2709.0</td>\n",
       "      <td>1</td>\n",
       "      <td>1</td>\n",
       "      <td>59</td>\n",
       "      <td>NaN</td>\n",
       "      <td>4</td>\n",
       "    </tr>\n",
       "    <tr>\n",
       "      <th>3</th>\n",
       "      <td>jogo medidas estampar berco menino americano l...</td>\n",
       "      <td>15877252</td>\n",
       "      <td>8071206</td>\n",
       "      <td>1</td>\n",
       "      <td>6</td>\n",
       "      <td>2017-02-27 13:26:03</td>\n",
       "      <td>118.770004</td>\n",
       "      <td>0.0</td>\n",
       "      <td>1</td>\n",
       "      <td>1</td>\n",
       "      <td>180</td>\n",
       "      <td>1.0</td>\n",
       "      <td>0</td>\n",
       "    </tr>\n",
       "    <tr>\n",
       "      <th>4</th>\n",
       "      <td>box banheiro adesivo de</td>\n",
       "      <td>15917108</td>\n",
       "      <td>7200773</td>\n",
       "      <td>3</td>\n",
       "      <td>38</td>\n",
       "      <td>2017-05-09 13:18:38</td>\n",
       "      <td>191.810000</td>\n",
       "      <td>507.0</td>\n",
       "      <td>1</td>\n",
       "      <td>6</td>\n",
       "      <td>34</td>\n",
       "      <td>NaN</td>\n",
       "      <td>2</td>\n",
       "    </tr>\n",
       "  </tbody>\n",
       "</table>\n",
       "</div>"
      ],
      "text/plain": [
       "                                         seq_process  product_id  seller_id  \\\n",
       "0                         santo mdf espirito mandala    11394449    8324141   \n",
       "1  long drink panfletos tag copos cartao adesivos...    15534262    6939286   \n",
       "2                     organizador expositor esmaltes    16153119    9835835   \n",
       "3  jogo medidas estampar berco menino americano l...    15877252    8071206   \n",
       "4                            box banheiro adesivo de    15917108    7200773   \n",
       "\n",
       "   search_page  position        creation_date       price  weight  \\\n",
       "0            2         6  2015-11-14 19:42:12  171.890000  1200.0   \n",
       "1            2         0  2018-04-04 20:55:07   77.670000     8.0   \n",
       "2            1        38  2018-10-13 20:57:07   73.920006  2709.0   \n",
       "3            1         6  2017-02-27 13:26:03  118.770004     0.0   \n",
       "4            3        38  2017-05-09 13:18:38  191.810000   507.0   \n",
       "\n",
       "   express_delivery  minimum_quantity  view_counts  order_counts  category  \n",
       "0                 1                 4          244           NaN         2  \n",
       "1                 1                 5          124           NaN         5  \n",
       "2                 1                 1           59           NaN         4  \n",
       "3                 1                 1          180           1.0         0  \n",
       "4                 1                 6           34           NaN         2  "
      ]
     },
     "execution_count": 21,
     "metadata": {},
     "output_type": "execute_result"
    }
   ],
   "source": [
    "df3.head()"
   ]
  },
  {
   "cell_type": "code",
   "execution_count": 22,
   "id": "c5d5ac42-9a3d-4fc3-878b-7a8a4fed4e20",
   "metadata": {},
   "outputs": [
    {
     "name": "stdout",
     "output_type": "stream",
     "text": [
      "<class 'pandas.core.frame.DataFrame'>\n",
      "RangeIndex: 37998 entries, 0 to 37997\n",
      "Data columns (total 13 columns):\n",
      " #   Column            Non-Null Count  Dtype  \n",
      "---  ------            --------------  -----  \n",
      " 0   seq_process       37998 non-null  object \n",
      " 1   product_id        37998 non-null  int64  \n",
      " 2   seller_id         37998 non-null  int64  \n",
      " 3   search_page       37998 non-null  int64  \n",
      " 4   position          37998 non-null  int64  \n",
      " 5   creation_date     37998 non-null  object \n",
      " 6   price             37998 non-null  float64\n",
      " 7   weight            37940 non-null  float64\n",
      " 8   express_delivery  37998 non-null  int64  \n",
      " 9   minimum_quantity  37998 non-null  int64  \n",
      " 10  view_counts       37998 non-null  int64  \n",
      " 11  order_counts      17893 non-null  float64\n",
      " 12  category          37998 non-null  int64  \n",
      "dtypes: float64(3), int64(8), object(2)\n",
      "memory usage: 3.8+ MB\n"
     ]
    }
   ],
   "source": [
    "df3.info()"
   ]
  },
  {
   "cell_type": "code",
   "execution_count": 23,
   "id": "b909540b-d7ec-4d43-87ce-bdc261d18c25",
   "metadata": {},
   "outputs": [
    {
     "data": {
      "text/plain": [
       "0     6930\n",
       "1      940\n",
       "2     8722\n",
       "3    17524\n",
       "4     1132\n",
       "5     2750\n",
       "Name: category, dtype: int64"
      ]
     },
     "execution_count": 23,
     "metadata": {},
     "output_type": "execute_result"
    }
   ],
   "source": [
    "# Absolute class count\n",
    "val_count = df3['category'].value_counts()\n",
    "\n",
    "val_count.sort_index()"
   ]
  },
  {
   "cell_type": "code",
   "execution_count": 24,
   "id": "659463da-894a-4e30-8fa3-18b761597944",
   "metadata": {},
   "outputs": [
    {
     "data": {
      "text/plain": [
       "0    18.237802\n",
       "1     2.473814\n",
       "2    22.953840\n",
       "3    46.118217\n",
       "4     2.979104\n",
       "5     7.237223\n",
       "Name: category, dtype: float64"
      ]
     },
     "execution_count": 24,
     "metadata": {},
     "output_type": "execute_result"
    }
   ],
   "source": [
    "# Percentage class count\n",
    "sum_val_count = val_count.values.sum()\n",
    "\n",
    "(100*val_count / sum_val_count).sort_index()"
   ]
  },
  {
   "cell_type": "code",
   "execution_count": 25,
   "id": "b7cee7a8-eb54-4f4a-b69c-7279902f577a",
   "metadata": {},
   "outputs": [
    {
     "data": {
      "text/plain": [
       "array(['Bebê', 'Bijuterias e Jóias', 'Decoração', 'Lembrancinhas',\n",
       "       'Outros', 'Papel e Cia'], dtype=object)"
      ]
     },
     "execution_count": 25,
     "metadata": {},
     "output_type": "execute_result"
    }
   ],
   "source": [
    "sorted_cats = df3['category'].unique()\n",
    "sorted_cats.sort()\n",
    "le.inverse_transform(sorted_cats)"
   ]
  },
  {
   "cell_type": "markdown",
   "id": "e8e943ee-606c-4b25-b059-0d4a1d1d9711",
   "metadata": {},
   "source": [
    "---"
   ]
  },
  {
   "cell_type": "markdown",
   "id": "6cb020e7-6e35-4ca7-bb29-8a7f530f4905",
   "metadata": {},
   "source": [
    "## Train, test, and validation"
   ]
  },
  {
   "cell_type": "code",
   "execution_count": 26,
   "id": "b0139521-178b-4e34-afa8-cb86e1ad86eb",
   "metadata": {},
   "outputs": [],
   "source": [
    "(X_train, X_test, \n",
    " y_train, y_test) = train_test_split(df3['seq_process'], df3['category'], \n",
    "                                     test_size=.35, random_state=42)"
   ]
  },
  {
   "cell_type": "code",
   "execution_count": 27,
   "id": "f5a99aeb-5f93-488f-8d59-5d95186da399",
   "metadata": {},
   "outputs": [
    {
     "name": "stdout",
     "output_type": "stream",
     "text": [
      "((24698,), (24698,)) ((13300,), (13300,))\n"
     ]
    }
   ],
   "source": [
    "print((X_train.shape, y_train.shape), (X_test.shape, y_test.shape))"
   ]
  },
  {
   "cell_type": "code",
   "execution_count": 28,
   "id": "f684824d-d9ff-45d6-b1fc-08bc727ca6e9",
   "metadata": {},
   "outputs": [],
   "source": [
    "# Tf-idf transform\n",
    "vectorizer = TfidfVectorizer()\n",
    "\n",
    "tfidf_X_train = vectorizer.fit_transform(X_train)\n",
    "tfidf_X_test = vectorizer.transform(X_test)"
   ]
  },
  {
   "cell_type": "code",
   "execution_count": 29,
   "id": "ae413e82-aa9a-4f55-b33b-e2fb5bbdad42",
   "metadata": {},
   "outputs": [],
   "source": [
    "# Grid Search params\n",
    "# lr = [float(10) ** n for n in range(-1, 1, 1)]\n",
    "# estimators = [100 + 50*n for n in range(0, 3)]\n",
    "# num_depth = [depth for depth in range(1, 4)]\n",
    "\n",
    "# grid_params_GB = dict(learning_rate=lr, n_estimators=estimators, max_depth=num_depth)"
   ]
  },
  {
   "cell_type": "code",
   "execution_count": 30,
   "id": "ddfcf60a-9f63-4ab7-96d6-8882f2908c70",
   "metadata": {},
   "outputs": [],
   "source": [
    "# grid_params_GB"
   ]
  },
  {
   "cell_type": "code",
   "execution_count": 31,
   "id": "906898b5-2c8a-4d9f-ae66-4d807c601bf3",
   "metadata": {},
   "outputs": [],
   "source": [
    "# start_time = time.time()\n",
    "\n",
    "# clf = GradientBoostingClassifier()\n",
    "# clf = GridSearchCV(clf, grid_params_XGB, cv=5, scoring='accuracy')\n",
    "# _ = clf.fit(tfidf_X_train, y_train)\n",
    "\n",
    "# clf = clf.best_estimator_\n",
    "\n",
    "# end_time = time.time()"
   ]
  },
  {
   "cell_type": "code",
   "execution_count": 32,
   "id": "2abab6b8-014f-4917-8ad4-ebdd386f0329",
   "metadata": {},
   "outputs": [
    {
     "name": "stdout",
     "output_type": "stream",
     "text": [
      "Tempo de execução (s): 319.76\n"
     ]
    }
   ],
   "source": [
    "start_time = time.time()\n",
    "\n",
    "clf = GradientBoostingClassifier(\n",
    "        n_estimators=1000, learning_rate=0.1,                             \n",
    "        max_depth=3, random_state=0\n",
    "    ).fit(tfidf_X_train, y_train)\n",
    "\n",
    "end_time = time.time()\n",
    "\n",
    "print(r'Tempo de execução (s): {end_time:.2f}'.format(end_time=end_time-start_time))"
   ]
  },
  {
   "cell_type": "code",
   "execution_count": 33,
   "id": "0e2f977d-3c2a-4791-b26a-3c9afe7d7093",
   "metadata": {},
   "outputs": [
    {
     "name": "stdout",
     "output_type": "stream",
     "text": [
      "Accuracy (Training data): 97.21%\n"
     ]
    }
   ],
   "source": [
    "print(r'Accuracy (Training data): {perc:.2f}%'.format(perc=100*clf.score(tfidf_X_train, y_train)))"
   ]
  },
  {
   "cell_type": "code",
   "execution_count": 34,
   "id": "6d2a72c9-2a99-4652-b4e1-de0a60ce2dcb",
   "metadata": {},
   "outputs": [
    {
     "name": "stdout",
     "output_type": "stream",
     "text": [
      "Accuracy (Test data): 88.39%\n"
     ]
    }
   ],
   "source": [
    "print(r'Accuracy (Test data): {perc:.2f}%'.format(perc=100*clf.score(tfidf_X_test, y_test)))"
   ]
  },
  {
   "cell_type": "code",
   "execution_count": 35,
   "id": "af92482d-aed1-4d29-846a-073274224fe5",
   "metadata": {},
   "outputs": [
    {
     "name": "stdout",
     "output_type": "stream",
     "text": [
      "              precision    recall  f1-score   support\n",
      "\n",
      "           0       0.90      0.83      0.87      2426\n",
      "           1       0.91      0.92      0.91       331\n",
      "           2       0.89      0.90      0.89      3032\n",
      "           3       0.88      0.94      0.91      6164\n",
      "           4       0.85      0.63      0.73       385\n",
      "           5       0.82      0.69      0.75       962\n",
      "\n",
      "    accuracy                           0.88     13300\n",
      "   macro avg       0.88      0.82      0.84     13300\n",
      "weighted avg       0.88      0.88      0.88     13300\n",
      "\n"
     ]
    }
   ],
   "source": [
    "print(classification_report(y_test, clf.predict(tfidf_X_test)))"
   ]
  },
  {
   "cell_type": "code",
   "execution_count": 36,
   "id": "ef9d586f-45d5-47f9-8035-24d4941deafe",
   "metadata": {},
   "outputs": [
    {
     "data": {
      "text/plain": [
       "array([[2014,    1,  126,  260,    5,   20],\n",
       "       [   0,  306,    3,   20,    1,    1],\n",
       "       [  67,   11, 2715,  193,   17,   29],\n",
       "       [ 123,    8,  122, 5813,   13,   85],\n",
       "       [   7,    4,   34,   84,  243,   13],\n",
       "       [  16,    8,   51,  216,    6,  665]])"
      ]
     },
     "execution_count": 36,
     "metadata": {},
     "output_type": "execute_result"
    }
   ],
   "source": [
    "confusion_matrix(y_test, clf.predict(tfidf_X_test))"
   ]
  },
  {
   "cell_type": "code",
   "execution_count": 37,
   "id": "1660f138-2837-41e8-a0d6-e60c3d04fb37",
   "metadata": {},
   "outputs": [],
   "source": [
    "# Recording classification metrics (precision, recall, f1 score, accuracy)\n",
    "with open(METRICS_PATH, 'w+') as f:\n",
    "    f.write(classification_report(y_test, clf.predict(tfidf_X_test)))\n",
    "\n",
    "    f.close()"
   ]
  },
  {
   "cell_type": "code",
   "execution_count": 38,
   "id": "a3434f3e-a02b-4b47-8e3f-131abf97382c",
   "metadata": {},
   "outputs": [],
   "source": [
    "with open(MODEL_PATH, 'wb') as f:\n",
    "    pickle.dump(clf, f)"
   ]
  },
  {
   "cell_type": "code",
   "execution_count": 40,
   "id": "ee52921c-697a-40d8-a7c3-dbe5d8f66740",
   "metadata": {},
   "outputs": [],
   "source": [
    "with open(MODEL_PATH, 'rb') as f:\n",
    "    clf = pickle.load(f)"
   ]
  },
  {
   "cell_type": "markdown",
   "id": "8cc2e451-933c-4d91-b68c-6f32bf673eca",
   "metadata": {},
   "source": [
    "---"
   ]
  }
 ],
 "metadata": {
  "kernelspec": {
   "display_name": "Python 3 (ipykernel)",
   "language": "python",
   "name": "python3"
  },
  "language_info": {
   "codemirror_mode": {
    "name": "ipython",
    "version": 3
   },
   "file_extension": ".py",
   "mimetype": "text/x-python",
   "name": "python",
   "nbconvert_exporter": "python",
   "pygments_lexer": "ipython3",
   "version": "3.9.1"
  }
 },
 "nbformat": 4,
 "nbformat_minor": 5
}
